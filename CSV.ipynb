{
 "cells": [
  {
   "cell_type": "markdown",
   "metadata": {},
   "source": [
    "# Archivos CSV"
   ]
  },
  {
   "cell_type": "markdown",
   "metadata": {},
   "source": [
    "#### Instrucciones principales para el módulo CSV:\n",
    "- función csv.reader\n",
    "- función csv.writer\n",
    "- clase csv.Dictwriter\n",
    "- clase csv.DictReader"
   ]
  },
  {
   "cell_type": "markdown",
   "metadata": {},
   "source": [
    "## csv.reader()"
   ]
  },
  {
   "cell_type": "code",
   "execution_count": 8,
   "metadata": {},
   "outputs": [
    {
     "name": "stdout",
     "output_type": "stream",
     "text": [
      "['', 'Peso(kg)', 'Estatura (m)', 'Estatura^2', 'IMC']\n",
      "['Alberto', '95', '1.79', '3.2041', '53.0726257']\n",
      "['Luis', '70', '1.64', '2.6896', '42.68292683']\n",
      "['Carlos', '76', '1.68', '2.8224', '45.23809524']\n",
      "['Antonio', '78', '1.79', '3.2041', '43.57541899']\n",
      "['Paulina', '56', '1.7', '2.89', '32.94117647']\n",
      "['Oracio', '100', '2.4', '5.76', '41.66666667']\n",
      "['Christian', '89', '2', '4', '44.5']\n",
      "['Aldo', '95', '2.1', '4.41', '45.23809524']\n",
      "['Stephany', '60', '1.65', '2.7225', '36.36363636']\n",
      "['Francisco', '100', '1.78', '3.1684', '56.17977528']\n"
     ]
    }
   ],
   "source": [
    "#Lee el archivo csv desde el directorio local\n",
    "import csv\n",
    " \n",
    "with open('IMC.csv') as File:  \n",
    "    reader = csv.reader(File)\n",
    "    for row in reader:\n",
    "        print(row)"
   ]
  },
  {
   "cell_type": "markdown",
   "metadata": {},
   "source": [
    "## DictReader"
   ]
  },
  {
   "cell_type": "code",
   "execution_count": 24,
   "metadata": {},
   "outputs": [
    {
     "name": "stdout",
     "output_type": "stream",
     "text": [
      "95 1.79 1.79\n",
      "70 1.64 1.64\n",
      "76 1.68 1.68\n",
      "78 1.79 1.79\n",
      "56 1.7 1.7\n",
      "100 2.4 2.4\n",
      "89 2 2\n",
      "95 2.1 2.1\n",
      "60 1.65 1.65\n",
      "100 1.78 1.78\n"
     ]
    }
   ],
   "source": [
    "#DictReader crea un objeto el cuál mapea la información leída a un diccionario\n",
    "with open('IMC.csv') as csvfile:\n",
    "    reader = csv.DictReader(csvfile)\n",
    "    for row in reader:\n",
    "        print(row['Peso(kg)'], row['Estatura (m)'], row['Estatura (m)'])"
   ]
  },
  {
   "cell_type": "code",
   "execution_count": 36,
   "metadata": {},
   "outputs": [
    {
     "name": "stdout",
     "output_type": "stream",
     "text": [
      "['Peso(kg)Estatura (m)', 'Estatura^2', 'IMC']\n",
      "['Alberto', '95', '1.79', '3.2041', '53.0726257']\n",
      "['Luis', '70', '1.64', '2.6896', '42.68292683']\n",
      "['Carlos', '76', '1.68', '2.8224', '45.23809524']\n",
      "['Antonio', '78', '1.79', '3.2041', '43.57541899']\n",
      "['Paulina', '56', '1.7', '2.89', '32.94117647']\n",
      "['Oracio', '100', '2.4', '5.76', '41.66666667']\n",
      "['Christian', '89', '2', '4', '44.5']\n",
      "['Aldo', '95', '2.1', '4.41', '45.23809524']\n",
      "['Stephany', '60', '1.65', '2.7225', '36.36363636']\n",
      "['Francisco', '100', '1.78', '3.1684', '56.17977528']\n"
     ]
    }
   ],
   "source": [
    "#De archivo CSV a formato de listas\n",
    "with open('IMC.csv') as File:\n",
    "    reader = csv.reader(File, delimiter=',', quotechar=',',\n",
    "                        quoting=csv.QUOTE_MINIMAL)\n",
    "    for row in reader:\n",
    "        print(row)"
   ]
  },
  {
   "cell_type": "code",
   "execution_count": 21,
   "metadata": {},
   "outputs": [
    {
     "name": "stdout",
     "output_type": "stream",
     "text": [
      "Collecting pprint\n",
      "  Downloading https://files.pythonhosted.org/packages/99/12/b6383259ef85c2b942ab9135f322c0dce83fdca8600d87122d2b0181451f/pprint-0.1.tar.gz\n",
      "Building wheels for collected packages: pprint\n",
      "  Building wheel for pprint (setup.py): started\n",
      "  Building wheel for pprint (setup.py): finished with status 'done'\n",
      "  Created wheel for pprint: filename=pprint-0.1-cp37-none-any.whl size=1255 sha256=29a275274424bc945be8aaf88db35bede059f150ba24272c87336a609f8c971b\n",
      "  Stored in directory: C:\\Users\\osiri\\AppData\\Local\\pip\\Cache\\wheels\\42\\d4\\c6\\16a6495aecc1bda5d5857bd036efd50617789ba9bea4a05124\n",
      "Successfully built pprint\n",
      "Installing collected packages: pprint\n",
      "Successfully installed pprint-0.1\n"
     ]
    }
   ],
   "source": [
    "#Instalar pprint para ordenamiento en la impresión de los datos\n",
    "!pip install pprint"
   ]
  },
  {
   "cell_type": "code",
   "execution_count": 3,
   "metadata": {},
   "outputs": [
    {
     "name": "stdout",
     "output_type": "stream",
     "text": [
      "[OrderedDict([('', 'Alberto'),\n",
      "              ('Peso(kg)', '95'),\n",
      "              ('Estatura (m)', '1.79'),\n",
      "              ('Estatura^2', '3.2041'),\n",
      "              ('IMC', '53.0726257')]),\n",
      " OrderedDict([('', 'Luis'),\n",
      "              ('Peso(kg)', '70'),\n",
      "              ('Estatura (m)', '1.64'),\n",
      "              ('Estatura^2', '2.6896'),\n",
      "              ('IMC', '42.68292683')]),\n",
      " OrderedDict([('', 'Carlos'),\n",
      "              ('Peso(kg)', '76'),\n",
      "              ('Estatura (m)', '1.68'),\n",
      "              ('Estatura^2', '2.8224'),\n",
      "              ('IMC', '45.23809524')]),\n",
      " OrderedDict([('', 'Antonio'),\n",
      "              ('Peso(kg)', '78'),\n",
      "              ('Estatura (m)', '1.79'),\n",
      "              ('Estatura^2', '3.2041'),\n",
      "              ('IMC', '43.57541899')]),\n",
      " OrderedDict([('', 'Paulina'),\n",
      "              ('Peso(kg)', '56'),\n",
      "              ('Estatura (m)', '1.7'),\n",
      "              ('Estatura^2', '2.89'),\n",
      "              ('IMC', '32.94117647')]),\n",
      " OrderedDict([('', 'Oracio'),\n",
      "              ('Peso(kg)', '100'),\n",
      "              ('Estatura (m)', '2.4'),\n",
      "              ('Estatura^2', '5.76'),\n",
      "              ('IMC', '41.66666667')]),\n",
      " OrderedDict([('', 'Christian'),\n",
      "              ('Peso(kg)', '89'),\n",
      "              ('Estatura (m)', '2'),\n",
      "              ('Estatura^2', '4'),\n",
      "              ('IMC', '44.5')]),\n",
      " OrderedDict([('', 'Aldo'),\n",
      "              ('Peso(kg)', '95'),\n",
      "              ('Estatura (m)', '2.1'),\n",
      "              ('Estatura^2', '4.41'),\n",
      "              ('IMC', '45.23809524')]),\n",
      " OrderedDict([('', 'Stephany'),\n",
      "              ('Peso(kg)', '60'),\n",
      "              ('Estatura (m)', '1.65'),\n",
      "              ('Estatura^2', '2.7225'),\n",
      "              ('IMC', '36.36363636')]),\n",
      " OrderedDict([('', 'Francisco'),\n",
      "              ('Peso(kg)', '100'),\n",
      "              ('Estatura (m)', '1.78'),\n",
      "              ('Estatura^2', '3.1684'),\n",
      "              ('IMC', '56.17977528')])]\n"
     ]
    }
   ],
   "source": [
    "#De archivo csv a formato de diccionarios\n",
    "import csv\n",
    "from pprint import pprint\n",
    "\n",
    "with open('IMC.csv') as File:\n",
    "    reader = csv.DictReader(File)\n",
    "    results = [row for row in reader]    \n",
    "    pprint(results)"
   ]
  },
  {
   "cell_type": "markdown",
   "metadata": {},
   "source": [
    "## csv.writer()"
   ]
  },
  {
   "cell_type": "code",
   "execution_count": 27,
   "metadata": {},
   "outputs": [
    {
     "name": "stdout",
     "output_type": "stream",
     "text": [
      "Escritura realizada\n"
     ]
    }
   ],
   "source": [
    "#Escribe desde lista de listas (matriz) a archivo csv\n",
    "myData = [[\"first_name\", \"second_name\", \"Grade\"],\n",
    "          ['Alejandro', 'Sánchez', 'A'],\n",
    "          ['Alberto', 'Lozano', 'B']]\n",
    " \n",
    "myFile = open('ejemplo.csv', 'w')\n",
    "with myFile:\n",
    "    writer = csv.writer(myFile)\n",
    "    writer.writerows(myData)\n",
    "     \n",
    "print(\"Escritura realizada\")"
   ]
  },
  {
   "cell_type": "code",
   "execution_count": 4,
   "metadata": {},
   "outputs": [
    {
     "name": "stdout",
     "output_type": "stream",
     "text": [
      "Escritura hecha!\n"
     ]
    }
   ],
   "source": [
    "#Escribe desde diccionario fila por fila declarando el encabezado con Fieldnames\n",
    "# a archivo csv\n",
    "import csv\n",
    " \n",
    "with open('ejemplo2.csv', 'w') as csvfile:\n",
    "    fieldnames = ['nombre', 'apellido', 'Grado']\n",
    "    writer = csv.DictWriter(csvfile, fieldnames=fieldnames)\n",
    " \n",
    "    writer.writeheader()\n",
    "    writer.writerow({'Grado': 'B', 'nombre': 'Alex', 'apellido': 'Brian'})\n",
    "    writer.writerow({'Grado': 'A', 'nombre': 'Rachael',\n",
    "                     'apellido': 'Rodriguez'})\n",
    "    writer.writerow({'Grado': 'B', 'nombre': 'Jane', 'apellido': 'Oscar'})\n",
    "    writer.writerow({'Grado': 'B', 'nombre': 'Jane', 'apellido': 'Loive'})\n",
    " \n",
    "print(\"Escritura hecha!\")"
   ]
  },
  {
   "cell_type": "code",
   "execution_count": 37,
   "metadata": {},
   "outputs": [
    {
     "name": "stdout",
     "output_type": "stream",
     "text": [
      "Escritura hecha!\n"
     ]
    }
   ],
   "source": [
    "#Escribe desde diccionario completo declarando el encabezado con Fieldnames\n",
    "# a archivo csv\n",
    "with open('ejemplo2.csv', 'w') as csvfile:\n",
    "    fieldnames = ['nombre', 'apellido', 'Grado']\n",
    "    writer = csv.DictWriter(csvfile, fieldnames=fieldnames)\n",
    " \n",
    "    writer.writeheader()\n",
    "    writer.writerows([{'Grado': 'B', 'nombre': 'Alex', 'apellido': 'Brian'},\n",
    "                      {'Grado': 'A', 'nombre': 'Rachael',\n",
    "                          'apellido': 'Rodriguez'},\n",
    "                      {'Grado': 'B', 'nombre': 'Jane', 'apellido': 'Oscar'},\n",
    "                      {'Grado': 'B', 'nombre': 'Jane', 'apellido': 'Loive'}])\n",
    " \n",
    "print(\"Escritura hecha!\")"
   ]
  },
  {
   "cell_type": "code",
   "execution_count": null,
   "metadata": {},
   "outputs": [],
   "source": []
  }
 ],
 "metadata": {
  "kernelspec": {
   "display_name": "Python 3",
   "language": "python",
   "name": "python3"
  },
  "language_info": {
   "codemirror_mode": {
    "name": "ipython",
    "version": 3
   },
   "file_extension": ".py",
   "mimetype": "text/x-python",
   "name": "python",
   "nbconvert_exporter": "python",
   "pygments_lexer": "ipython3",
   "version": "3.7.4"
  }
 },
 "nbformat": 4,
 "nbformat_minor": 2
}
