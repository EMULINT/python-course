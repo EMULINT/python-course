{
 "cells": [
  {
   "cell_type": "markdown",
   "metadata": {},
   "source": [
    "# Creación de clases"
   ]
  },
  {
   "cell_type": "code",
   "execution_count": 72,
   "metadata": {},
   "outputs": [
    {
     "name": "stdout",
     "output_type": "stream",
     "text": [
      "<class '__main__.Aviones'>\n"
     ]
    }
   ],
   "source": [
    "class Aviones:\n",
    "    #Asigna un atributo para el objeto\n",
    "    marca = 'Airbus'\n",
    "#Imprimir la clase Aviones\n",
    "#Declara fuera de la línea de la clase\n",
    "print(Aviones)"
   ]
  },
  {
   "cell_type": "markdown",
   "metadata": {},
   "source": [
    "# Creación de Objetos"
   ]
  },
  {
   "cell_type": "code",
   "execution_count": 73,
   "metadata": {},
   "outputs": [
    {
     "name": "stdout",
     "output_type": "stream",
     "text": [
      "Airbus\n"
     ]
    }
   ],
   "source": [
    "#Creamos un objeto para esta clase\n",
    "avion = Aviones() #Instanciamos la clase con un objeto\n",
    "print(a.marca)"
   ]
  },
  {
   "cell_type": "markdown",
   "metadata": {},
   "source": [
    "# Método \"init\""
   ]
  },
  {
   "cell_type": "code",
   "execution_count": 74,
   "metadata": {},
   "outputs": [],
   "source": [
    "#Sirve para asignar atributos a los objetos"
   ]
  },
  {
   "cell_type": "code",
   "execution_count": 75,
   "metadata": {},
   "outputs": [
    {
     "name": "stdout",
     "output_type": "stream",
     "text": [
      "Rojo\n",
      "BMW\n"
     ]
    }
   ],
   "source": [
    "class autos_deportivos:\n",
    "    def __init__(self,color,marca):\n",
    "        #Declaramos los atributos\n",
    "        self.Color = color\n",
    "        self.Marca = marca\n",
    "\n",
    "#Declarar fuera de la línea de la clase\n",
    "auto = autos_deportivos(\"Rojo\",\"BMW\")\n",
    "print(auto.Color)\n",
    "print(auto.Marca)\n",
    "    "
   ]
  },
  {
   "cell_type": "markdown",
   "metadata": {},
   "source": [
    "# Métodos de los objetos"
   ]
  },
  {
   "cell_type": "code",
   "execution_count": 76,
   "metadata": {},
   "outputs": [],
   "source": [
    "#Los métodos son acciones que realiza el objeto"
   ]
  },
  {
   "cell_type": "code",
   "execution_count": 77,
   "metadata": {},
   "outputs": [
    {
     "name": "stdout",
     "output_type": "stream",
     "text": [
      "El BMW Azul Coupé está encendido\n",
      "El BMW Azul Coupé ha avanzado\n",
      "El BMW Azul Coupé se está deteniendo\n"
     ]
    }
   ],
   "source": [
    "class autos_deportivos:\n",
    "    \n",
    "    def __init__(self,marca,tipo,color):\n",
    "        #Declaramos los atributos\n",
    "        self.Marca = marca\n",
    "        self.Tipo = tipo\n",
    "        self.Color = color\n",
    "        \n",
    "    def poner_en_marcha(self):\n",
    "        #Si quieres retornar toda un mensaje con las variables string\n",
    "        #Se utiliza por ejemplo: \"El texto \" es self.Variable_String\n",
    "        return \"El \"+self.Marca+ \" \" +self.Color+ \" \"+self.Tipo+\" está encendido\"\n",
    "    \n",
    "    def acelerar(self):\n",
    "        return \"El \"+self.Marca+ \" \" +self.Color+ \" \"+self.Tipo+\" ha avanzado\"\n",
    "    \n",
    "    def frenar(self):\n",
    "        return \"El \"+self.Marca+ \" \" +self.Color+ \" \"+self.Tipo+\" se está deteniendo\"\n",
    "\n",
    "#Se crea una instancia de la clase\n",
    "auto = autos_deportivos(\"BMW\",\"Coupé\",\"Azul\")\n",
    "\n",
    "print(auto.poner_en_marcha())\n",
    "print(auto.acelerar())\n",
    "print(auto.frenar())\n",
    "        "
   ]
  },
  {
   "cell_type": "markdown",
   "metadata": {},
   "source": [
    "# Herencia"
   ]
  },
  {
   "cell_type": "code",
   "execution_count": 78,
   "metadata": {},
   "outputs": [],
   "source": [
    "#Las clases padre pueden heredar sus metodos a las clases hijo\n",
    "#Cualquier clase puede ser una clase padre"
   ]
  },
  {
   "cell_type": "markdown",
   "metadata": {},
   "source": [
    "### Clase padre"
   ]
  },
  {
   "cell_type": "code",
   "execution_count": 79,
   "metadata": {},
   "outputs": [
    {
     "name": "stdout",
     "output_type": "stream",
     "text": [
      "El dalmata chico camina rapidamente\n",
      "El dalmata chico esta aullando\n"
     ]
    }
   ],
   "source": [
    "class perros:\n",
    "    def __init__(self, raza, tamaño):\n",
    "        self.Raza = raza\n",
    "        self.Tamaño = tamaño\n",
    "    \n",
    "    def caminar(self):\n",
    "        return \"El \"+self.Raza+\" \"+self.Tamaño+\" camina rapidamente\"\n",
    "    \n",
    "    def aullar(self):\n",
    "        return \"El \"+self.Raza+\" \"+self.Tamaño+\" esta aullando\"\n",
    "\n",
    "rufo = perros(\"dalmata\",\"chico\")\n",
    "\n",
    "print(rufo.caminar())\n",
    "print(rufo.aullar())\n",
    "        "
   ]
  },
  {
   "cell_type": "markdown",
   "metadata": {},
   "source": [
    "### Clase hijo"
   ]
  },
  {
   "cell_type": "code",
   "execution_count": 80,
   "metadata": {},
   "outputs": [
    {
     "name": "stdout",
     "output_type": "stream",
     "text": [
      "El Lobo gris grande camina rapidamente\n",
      "El Lobo gris grande esta aullando\n"
     ]
    }
   ],
   "source": [
    "class lobos(perros):\n",
    "    pass \n",
    "\n",
    "#Se agrega pass cuando no quieres agregar métodos a está clase\n",
    "\n",
    "silvestre = lobos(\"Lobo gris\",\"grande\")\n",
    "print(silvestre.caminar())\n",
    "print(silvestre.aullar())\n",
    "        "
   ]
  },
  {
   "cell_type": "code",
   "execution_count": 81,
   "metadata": {},
   "outputs": [],
   "source": [
    "#Tambien podemos agregar el método __init__ en lugar de pass"
   ]
  },
  {
   "cell_type": "code",
   "execution_count": 82,
   "metadata": {},
   "outputs": [
    {
     "name": "stdout",
     "output_type": "stream",
     "text": [
      "El Lobo gris grande camina rapidamente\n",
      "El Lobo gris grande esta aullando\n"
     ]
    }
   ],
   "source": [
    "class lobos(perros):\n",
    "    def __init__(self,raza,tamaño):\n",
    "        perros.__init__(self,raza,tamaño)\n",
    "        \n",
    "silvestre = lobos(\"Lobo gris\",\"grande\")\n",
    "print(silvestre.caminar())\n",
    "print(silvestre.aullar())"
   ]
  },
  {
   "cell_type": "code",
   "execution_count": 83,
   "metadata": {},
   "outputs": [],
   "source": [
    "#Para heredar todo los métodos desde una clase padre\n",
    "#Se realiza con la función super()"
   ]
  },
  {
   "cell_type": "code",
   "execution_count": 84,
   "metadata": {},
   "outputs": [
    {
     "name": "stdout",
     "output_type": "stream",
     "text": [
      "El Lobo gris grande camina rapidamente\n",
      "El Lobo gris grande esta aullando\n"
     ]
    }
   ],
   "source": [
    "class lobos(perros):\n",
    "    def __init__(self,raza,tamaño):\n",
    "        super().__init__(raza,tamaño)\n",
    "\n",
    "silvestre = lobos(\"Lobo gris\",\"grande\")\n",
    "print(silvestre.caminar())\n",
    "print(silvestre.aullar())"
   ]
  },
  {
   "cell_type": "code",
   "execution_count": null,
   "metadata": {},
   "outputs": [],
   "source": [
    "#Agregar atributos a la clase hijo"
   ]
  },
  {
   "cell_type": "code",
   "execution_count": 88,
   "metadata": {},
   "outputs": [
    {
     "name": "stdout",
     "output_type": "stream",
     "text": [
      "70 kg\n"
     ]
    }
   ],
   "source": [
    "class lobos(perros):\n",
    "    def __init__(self,raza,tamaño,peso):\n",
    "        super().__init__(raza,tamaño)\n",
    "        self.peso = peso\n",
    "\n",
    "silvestre = lobos(\"Lobo gris\",\"grande\", \"70 kg\")\n",
    "\n",
    "print(silvestre.peso)"
   ]
  },
  {
   "cell_type": "code",
   "execution_count": null,
   "metadata": {},
   "outputs": [],
   "source": [
    "#Agregar métodos a la clase hijo"
   ]
  },
  {
   "cell_type": "code",
   "execution_count": 90,
   "metadata": {},
   "outputs": [
    {
     "name": "stdout",
     "output_type": "stream",
     "text": [
      "El Lobo gris grande está corriendo\n"
     ]
    }
   ],
   "source": [
    "class lobos(perros):\n",
    "    def __init__(self,raza,tamaño,peso):\n",
    "        super().__init__(raza,tamaño)\n",
    "        self.peso = peso\n",
    "        \n",
    "    def correr(self):\n",
    "        return \"El \"+self.Raza+\" \"+self.Tamaño+\" está corriendo\"\n",
    "\n",
    "silvestre = lobos(\"Lobo gris\",\"grande\", \"70 kg\")\n",
    "\n",
    "print(silvestre.correr())"
   ]
  },
  {
   "cell_type": "code",
   "execution_count": null,
   "metadata": {},
   "outputs": [],
   "source": []
  }
 ],
 "metadata": {
  "kernelspec": {
   "display_name": "Python 3",
   "language": "python",
   "name": "python3"
  },
  "language_info": {
   "codemirror_mode": {
    "name": "ipython",
    "version": 3
   },
   "file_extension": ".py",
   "mimetype": "text/x-python",
   "name": "python",
   "nbconvert_exporter": "python",
   "pygments_lexer": "ipython3",
   "version": "3.7.4"
  }
 },
 "nbformat": 4,
 "nbformat_minor": 2
}
