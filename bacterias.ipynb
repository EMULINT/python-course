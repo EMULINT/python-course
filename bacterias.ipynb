{
 "cells": [
  {
   "cell_type": "markdown",
   "metadata": {},
   "source": [
    "# Población de una colonia de bacterias"
   ]
  },
  {
   "cell_type": "markdown",
   "metadata": {},
   "source": [
    "### Se calcula el número de día en que la población de una colonia de bacterias se duplica"
   ]
  },
  {
   "cell_type": "code",
   "execution_count": 2,
   "metadata": {},
   "outputs": [
    {
     "name": "stdout",
     "output_type": "stream",
     "text": [
      "Dame la población máxima: \n",
      "49\n"
     ]
    }
   ],
   "source": [
    "#Entrada de datos\n",
    "nd = 1 #Numero de dias\n",
    "M0 = 10 #Población inicial\n",
    "Mmax = int(input(\"Dame la población máxima: \\n\"))"
   ]
  },
  {
   "cell_type": "code",
   "execution_count": 3,
   "metadata": {},
   "outputs": [],
   "source": [
    "#Proceso\n",
    "while M0 <=Mmax:\n",
    "    M0 = 2*M0\n",
    "    if M0<= Mmax: #Checa si todavía no llega al máximo\n",
    "        nd += 2 # Se incrementa el numero de días en 2"
   ]
  },
  {
   "cell_type": "code",
   "execution_count": 4,
   "metadata": {},
   "outputs": [
    {
     "name": "stdout",
     "output_type": "stream",
     "text": [
      "El número de días es  5\n",
      "La población de bacterias es  80\n"
     ]
    }
   ],
   "source": [
    "#Resultados\n",
    "print(\"El número de días es \", nd)\n",
    "print(\"La población de bacterias es \", M0)"
   ]
  },
  {
   "cell_type": "code",
   "execution_count": null,
   "metadata": {},
   "outputs": [],
   "source": []
  }
 ],
 "metadata": {
  "kernelspec": {
   "display_name": "Python 3",
   "language": "python",
   "name": "python3"
  },
  "language_info": {
   "codemirror_mode": {
    "name": "ipython",
    "version": 3
   },
   "file_extension": ".py",
   "mimetype": "text/x-python",
   "name": "python",
   "nbconvert_exporter": "python",
   "pygments_lexer": "ipython3",
   "version": "3.7.4"
  }
 },
 "nbformat": 4,
 "nbformat_minor": 2
}
