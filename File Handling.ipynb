{
 "cells": [
  {
   "cell_type": "markdown",
   "metadata": {},
   "source": [
    "# File Handling "
   ]
  },
  {
   "cell_type": "markdown",
   "metadata": {},
   "source": [
    "## $open(filename,mode)$"
   ]
  },
  {
   "cell_type": "code",
   "execution_count": 1,
   "metadata": {},
   "outputs": [],
   "source": [
    "# \"r\" - Read - Valor por default. Abre el archivo para leerse, error si el archivo no existe\n",
    "\n",
    "# \"a\" - Append - Abre el archivo para agregarse, crea el archico si no existe\n",
    "\n",
    "# \"w\" - Write - Abre el archivo para escribirse, crea un archivo si no existe\n",
    "\n",
    "# \"x\" - Create - Crea un archivo en específico, retorna un error si el archivo existe"
   ]
  },
  {
   "cell_type": "code",
   "execution_count": null,
   "metadata": {},
   "outputs": [],
   "source": [
    "# \"t\" - Text - Valor por default. Modo texto\n",
    "\n",
    "# \"b\" - Binary - Modo binario (e.g. imagenes, pdf)"
   ]
  },
  {
   "cell_type": "markdown",
   "metadata": {},
   "source": [
    "# Lectura de Archivos"
   ]
  },
  {
   "cell_type": "code",
   "execution_count": 44,
   "metadata": {
    "scrolled": true
   },
   "outputs": [
    {
     "name": "stdout",
     "output_type": "stream",
     "text": [
      "Donald John Trump (pronunciado en inglés: ['d?n?ld d???n tr?mp]; Nueva York, 14 de junio de 1946) es el 45.º presidente de los Estados Unidos desde el 20 de enero de 2017.2? Antes de entrar en la política, fue un empresario y personalidad televisiva.\n",
      "\n",
      "Nacido y criado en un barrio del borough neoyorquino de Queens llamado Jamaica, Trump obtuvo el título de bachiller en economía en la Wharton School de la Universidad de Pensilvania en 1968. En 1971, se hizo cargo de la empresa familiar de bienes raíces y construcción Elizabeth Trump & Son, que más tarde sería renombrada como Trump Organization.3?4? Durante su carrera empresarial, Trump ha construido, renovado y gestionado numerosas torres de oficinas, hoteles, casinos y campos de golf. Poseyó los concursos de belleza Miss USA y Miss Universo desde 1996 hasta 2015, y ha prestado el uso de su nombre en la marca de varios productos. De 2004 a 2015, participó en The Apprentice, un reality show de NBC. En 2016, Forbes lo enumeró como la 324.ª persona más rica del mundo (113.ª en los Estados Unidos), con un valor neto de 4500 millones de dólares.1? Según las estimaciones de Forbes en febrero de 2018, aparece entre las personas más ricas del mundo en el puesto 766, con un valor neto de 3100 millones de dólares.5?\n",
      "\n",
      "Trump buscó la nominación presidencial del Partido Reformista en 2000, pero se retiró antes de que comenzara la votación. Consideró postularse para el cargo como republicano para las elecciones de 2012, pero finalmente decidió no hacerlo. En junio de 2015, anunció oficialmente su candidatura para las elecciones de 2016, y se convirtió rápidamente en el favorito entre los diecisiete candidatos en las primarias republicanas. Sus rivales hacia el final suspendieron sus campañas en mayo de 2016, y en julio fue nominado en la Convención Republicana junto con Mike Pence como su compañero de fórmula. Su campaña recibió una cobertura mediática sin precedentes y gran atención internacional. Muchas de sus declaraciones en las entrevistas, en las redes sociales y en las manifestaciones de la campaña eran polémicas o consideradas falsas.6?7?\n"
     ]
    }
   ],
   "source": [
    "f = open(\"trump.txt\")\n",
    "print(f.read())"
   ]
  },
  {
   "cell_type": "code",
   "execution_count": 45,
   "metadata": {},
   "outputs": [
    {
     "name": "stdout",
     "output_type": "stream",
     "text": [
      "La ciencia\n"
     ]
    }
   ],
   "source": [
    "f = open(\"text\", \"r\")\n",
    "print(f.read(10))"
   ]
  },
  {
   "cell_type": "code",
   "execution_count": 25,
   "metadata": {},
   "outputs": [
    {
     "name": "stdout",
     "output_type": "stream",
     "text": [
      "La ciencia de datos es un campo interdisciplinario que involucra mÃ©todos cientÃ­ficos, procesos y sistemas para extraer conocimiento o un mejor entendimiento de datos en sus diferentes formas, ya sea estructurados o no estructurados,1â€‹ lo cual es una continuaciÃ³n de algunos campos de anÃ¡lisis de datos como la estadÃ­stica, la minerÃ­a de datos, el aprendizaje automÃ¡tico y la analÃ­tica predictiva.\n"
     ]
    }
   ],
   "source": [
    "f = open(\"text\", \"r\")\n",
    "print(f.readline())"
   ]
  },
  {
   "cell_type": "code",
   "execution_count": 49,
   "metadata": {},
   "outputs": [
    {
     "name": "stdout",
     "output_type": "stream",
     "text": [
      "Donald John Trump (pronunciado en inglés: ['d?n?ld d???n tr?mp]; Nueva York, 14 de junio de 1946) es el 45.º presidente de los Estados Unidos desde el 20 de enero de 2017.2? Antes de entrar en la política, fue un empresario y personalidad televisiva.\n",
      "\n",
      "\n",
      "\n",
      "Nacido y criado en un barrio del borough neoyorquino de Queens llamado Jamaica, Trump obtuvo el título de bachiller en economía en la Wharton School de la Universidad de Pensilvania en 1968. En 1971, se hizo cargo de la empresa familiar de bienes raíces y construcción Elizabeth Trump & Son, que más tarde sería renombrada como Trump Organization.3?4? Durante su carrera empresarial, Trump ha construido, renovado y gestionado numerosas torres de oficinas, hoteles, casinos y campos de golf. Poseyó los concursos de belleza Miss USA y Miss Universo desde 1996 hasta 2015, y ha prestado el uso de su nombre en la marca de varios productos. De 2004 a 2015, participó en The Apprentice, un reality show de NBC. En 2016, Forbes lo enumeró como la 324.ª persona más rica del mundo (113.ª en los Estados Unidos), con un valor neto de 4500 millones de dólares.1? Según las estimaciones de Forbes en febrero de 2018, aparece entre las personas más ricas del mundo en el puesto 766, con un valor neto de 3100 millones de dólares.5?\n",
      "\n"
     ]
    }
   ],
   "source": [
    "f = open(\"trump.txt\", \"r\")\n",
    "print(f.readline())\n",
    "print(f.readline())\n",
    "print(f.readline())"
   ]
  },
  {
   "cell_type": "code",
   "execution_count": 31,
   "metadata": {},
   "outputs": [
    {
     "name": "stdout",
     "output_type": "stream",
     "text": [
      "ÿþL\u0000a\u0000 \u0000c\u0000i\u0000e\u0000n\u0000c\u0000i\u0000a\u0000 \u0000d\u0000e\u0000 \u0000d\u0000a\u0000t\u0000o\u0000s\u0000 \u0000e\u0000s\u0000 \u0000u\u0000n\u0000 \u0000c\u0000a\u0000m\u0000p\u0000o\u0000 \u0000i\u0000n\u0000t\u0000e\u0000r\u0000d\u0000i\u0000s\u0000c\u0000i\u0000p\u0000l\u0000i\u0000n\u0000a\u0000r\u0000i\u0000o\u0000 \u0000q\u0000u\u0000e\u0000 \u0000i\u0000n\u0000v\u0000o\u0000l\u0000u\u0000c\u0000r\u0000a\u0000 \u0000m\u0000é\u0000t\u0000o\u0000d\u0000o\u0000s\u0000 \u0000c\u0000i\u0000e\u0000n\u0000t\u0000í\u0000f\u0000i\u0000c\u0000o\u0000s\u0000,\u0000 \u0000p\u0000r\u0000o\u0000c\u0000e\u0000s\u0000o\u0000s\u0000 \u0000y\u0000 \u0000s\u0000i\u0000s\u0000t\u0000e\u0000m\u0000a\u0000s\u0000 \u0000p\u0000a\u0000r\u0000a\u0000 \u0000e\u0000x\u0000t\u0000r\u0000a\u0000e\u0000r\u0000 \u0000c\u0000o\u0000n\u0000o\u0000c\u0000i\u0000m\u0000i\u0000e\u0000n\u0000t\u0000o\u0000 \u0000o\u0000 \u0000u\u0000n\u0000 \u0000m\u0000e\u0000j\u0000o\u0000r\u0000 \u0000e\u0000n\u0000t\u0000e\u0000n\u0000d\u0000i\u0000m\u0000i\u0000e\u0000n\u0000t\u0000o\u0000 \u0000d\u0000e\u0000 \u0000d\u0000a\u0000t\u0000o\u0000s\u0000 \u0000e\u0000n\u0000 \u0000s\u0000u\u0000s\u0000 \u0000d\u0000i\u0000f\u0000e\u0000r\u0000e\u0000n\u0000t\u0000e\u0000s\u0000 \u0000f\u0000o\u0000r\u0000m\u0000a\u0000s\u0000,\u0000 \u0000y\u0000a\u0000 \u0000s\u0000e\u0000a\u0000 \u0000e\u0000s\u0000t\u0000r\u0000u\u0000c\u0000t\u0000u\u0000r\u0000a\u0000d\u0000o\u0000s\u0000 \u0000o\u0000 \u0000n\u0000o\u0000 \u0000e\u0000s\u0000t\u0000r\u0000u\u0000c\u0000t\u0000u\u0000r\u0000a\u0000d\u0000o\u0000s\u0000,\u00001\u0000?\u0000 \u0000l\u0000o\u0000 \u0000c\u0000u\u0000a\u0000l\u0000 \u0000e\u0000s\u0000 \u0000u\u0000n\u0000a\u0000 \u0000c\u0000o\u0000n\u0000t\u0000i\u0000n\u0000u\u0000a\u0000c\u0000i\u0000ó\u0000n\u0000 \u0000d\u0000e\u0000 \u0000a\u0000l\u0000g\u0000u\u0000n\u0000o\u0000s\u0000 \u0000c\u0000a\u0000m\u0000p\u0000o\u0000s\u0000 \u0000d\u0000e\u0000 \u0000a\u0000n\u0000á\u0000l\u0000i\u0000s\u0000i\u0000s\u0000 \u0000d\u0000e\u0000 \u0000d\u0000a\u0000t\u0000o\u0000s\u0000 \u0000c\u0000o\u0000m\u0000o\u0000 \u0000l\u0000a\u0000 \u0000e\u0000s\u0000t\u0000a\u0000d\u0000í\u0000s\u0000t\u0000i\u0000c\u0000a\u0000,\u0000 \u0000l\u0000a\u0000 \u0000m\u0000i\u0000n\u0000e\u0000r\u0000í\u0000a\u0000 \u0000d\u0000e\u0000 \u0000d\u0000a\u0000t\u0000o\u0000s\u0000,\u0000 \u0000e\u0000l\u0000 \u0000a\u0000p\u0000r\u0000e\u0000n\u0000d\u0000i\u0000z\u0000a\u0000j\u0000e\u0000 \u0000a\u0000u\u0000t\u0000o\u0000m\u0000á\u0000t\u0000i\u0000c\u0000o\u0000 \u0000y\u0000 \u0000l\u0000a\u0000 \u0000a\u0000n\u0000a\u0000l\u0000í\u0000t\u0000i\u0000c\u0000a\u0000 \u0000p\u0000r\u0000e\u0000d\u0000i\u0000c\u0000t\u0000i\u0000v\u0000a\u0000.\u0000\n",
      "\n",
      "\u0000\n",
      "\n",
      "\u0000M\u0000u\u0000c\u0000h\u0000a\u0000s\u0000 \u0000v\u0000e\u0000c\u0000e\u0000s\u0000 \u0000a\u0000l\u0000 \u0000c\u0000r\u0000e\u0000a\u0000r\u0000 \u0000u\u0000n\u0000a\u0000 \u0000W\u0000e\u0000b\u0000 \u0000y\u0000 \u0000a\u0000l\u0000 \u0000p\u0000o\u0000n\u0000e\u0000r\u0000 \u0000l\u0000a\u0000 \u0000c\u0000o\u0000d\u0000i\u0000f\u0000i\u0000c\u0000a\u0000c\u0000i\u0000ó\u0000n\u0000 \u0000U\u0000T\u0000F\u0000-\u00008\u0000 \u0000s\u0000e\u0000 \u0000n\u0000o\u0000s\u0000 \u0000h\u0000a\u0000 \u0000d\u0000e\u0000s\u0000m\u0000o\u0000n\u0000t\u0000a\u0000d\u0000o\u0000,\u0000 \u0000s\u0000o\u0000b\u0000r\u0000e\u0000 \u0000t\u0000o\u0000d\u0000o\u0000 \u0000l\u0000o\u0000s\u0000 \u0000c\u0000a\u0000r\u0000á\u0000c\u0000t\u0000e\u0000r\u0000e\u0000s\u0000 \u0000e\u0000s\u0000p\u0000e\u0000c\u0000i\u0000a\u0000l\u0000e\u0000s\u0000 \u0000m\u0000á\u0000s\u0000 \u0000l\u0000a\u0000t\u0000i\u0000n\u0000o\u0000s\u0000,\u0000 \u0000q\u0000u\u0000e\u0000 \u0000s\u0000o\u0000n\u0000 \u0000l\u0000o\u0000s\u0000 \u0000a\u0000c\u0000e\u0000n\u0000t\u0000o\u0000s\u0000,\u0000 \u0000l\u0000a\u0000 \u0000ñ\u0000,\u0000 \u0000l\u0000a\u0000s\u0000 \u0000d\u0000i\u0000é\u0000r\u0000e\u0000s\u0000i\u0000s\u0000,\u0000 \u0000&  \u0000m\u0000á\u0000s\u0000 \u0000u\u0000s\u0000u\u0000a\u0000l\u0000e\u0000s\u0000 \u0000e\u0000n\u0000 \u0000l\u0000a\u0000 \u0000c\u0000o\u0000d\u0000i\u0000f\u0000i\u0000c\u0000a\u0000c\u0000i\u0000ó\u0000n\u0000 \u0000I\u0000S\u0000O\u0000-\u00008\u00008\u00005\u00009\u0000-\u00001\u0000.\u0000\n",
      "\n",
      "\u0000\n",
      "\n",
      "\u0000P\u0000o\u0000r\u0000q\u0000u\u0000é\u0000 \u0000p\u0000a\u0000s\u0000a\u0000 \u0000e\u0000s\u0000t\u0000o\u0000?\u0000 \u0000U\u0000T\u0000F\u0000-\u00008\u0000 \u0000u\u0000s\u0000a\u0000 \u0000c\u0000a\u0000r\u0000á\u0000c\u0000t\u0000e\u0000r\u0000e\u0000s\u0000 \u0000u\u0000n\u0000i\u0000v\u0000e\u0000r\u0000s\u0000a\u0000l\u0000e\u0000s\u0000,\u0000 \u0000l\u0000o\u0000s\u0000 \u0000m\u0000á\u0000s\u0000 \u0000u\u0000s\u0000u\u0000a\u0000d\u0000o\u0000s\u0000 \u0000e\u0000n\u0000 \u0000c\u0000a\u0000s\u0000i\u0000 \u0000t\u0000o\u0000d\u0000a\u0000s\u0000 \u0000l\u0000a\u0000s\u0000 \u0000l\u0000e\u0000n\u0000g\u0000u\u0000a\u0000s\u0000,\u0000 \u0000p\u0000e\u0000r\u0000o\u0000 \u0000I\u0000S\u0000O\u0000-\u00008\u00008\u00005\u00009\u0000-\u00001\u0000 \u0000u\u0000s\u0000a\u0000 \u0000c\u0000a\u0000r\u0000á\u0000c\u0000t\u0000e\u0000r\u0000e\u0000s\u0000 \u0000l\u0000a\u0000t\u0000i\u0000n\u0000o\u0000s\u0000 \u0000c\u0000o\u0000m\u0000o\u0000 \u0000e\u0000l\u0000 \u0000E\u0000s\u0000p\u0000a\u0000ñ\u0000o\u0000l\u0000,\u0000 \u0000P\u0000o\u0000r\u0000t\u0000u\u0000g\u0000u\u0000é\u0000s\u0000 \u0000e\u0000 \u0000I\u0000t\u0000a\u0000l\u0000i\u0000a\u0000n\u0000o\u0000 \u0000e\u0000n\u0000t\u0000r\u0000e\u0000 \u0000o\u0000t\u0000r\u0000o\u0000s\u0000.\u0000 \u0000U\u0000n\u0000a\u0000 \u0000f\u0000o\u0000r\u0000m\u0000a\u0000 \u0000d\u0000e\u0000 \u0000a\u0000r\u0000r\u0000e\u0000g\u0000l\u0000a\u0000r\u0000 \u0000e\u0000s\u0000t\u0000o\u0000,\u0000 \u0000d\u0000e\u0000s\u0000p\u0000u\u0000é\u0000s\u0000 \u0000d\u0000e\u0000 \u0000i\u0000n\u0000d\u0000i\u0000c\u0000a\u0000r\u0000 \u0000l\u0000a\u0000 \u0000c\u0000o\u0000d\u0000i\u0000f\u0000i\u0000c\u0000a\u0000c\u0000i\u0000ó\u0000n\u0000 \u0000U\u0000T\u0000F\u0000-\u00008\u0000 \u0000(\u0000<\u0000m\u0000e\u0000t\u0000a\u0000 \u0000h\u0000t\u0000t\u0000p\u0000-\u0000e\u0000q\u0000u\u0000i\u0000v\u0000=\u0000\"\u0000C\u0000o\u0000n\u0000t\u0000e\u0000n\u0000t\u0000-\u0000t\u0000y\u0000p\u0000e\u0000\"\u0000 \u0000c\u0000o\u0000n\u0000t\u0000e\u0000n\u0000t\u0000=\u0000\"\u0000t\u0000e\u0000x\u0000t\u0000/\u0000h\u0000t\u0000m\u0000l\u0000;\u0000 \u0000c\u0000h\u0000a\u0000r\u0000s\u0000e\u0000t\u0000=\u0000u\u0000t\u0000f\u0000-\u00008\u0000\"\u0000 \u0000/\u0000>\u0000)\u0000 \u0000e\u0000n\u0000 \u0000n\u0000u\u0000e\u0000s\u0000t\u0000r\u0000a\u0000 \u0000W\u0000e\u0000b\u0000,\u0000 \u0000e\u0000s\u0000 \u0000c\u0000a\u0000m\u0000b\u0000i\u0000a\u0000r\u0000 \u0000l\u0000a\u0000 \u0000c\u0000o\u0000d\u0000i\u0000f\u0000i\u0000c\u0000a\u0000c\u0000i\u0000ó\u0000n\u0000 \u0000d\u0000e\u0000 \u0000n\u0000u\u0000e\u0000s\u0000t\u0000o\u0000s\u0000 \u0000a\u0000r\u0000c\u0000h\u0000i\u0000v\u0000o\u0000s\u0000\n",
      "\n",
      "\u0000\n",
      "\n",
      "\u0000\n",
      "\n",
      "\u0000\n",
      "\n",
      "\u0000\n"
     ]
    }
   ],
   "source": [
    "f = open(\"text.txt\", \"r\")\n",
    "for x in f:\n",
    "  print(x)"
   ]
  },
  {
   "cell_type": "code",
   "execution_count": 33,
   "metadata": {},
   "outputs": [
    {
     "name": "stdout",
     "output_type": "stream",
     "text": [
      "ÿþL\u0000a\u0000 \u0000c\u0000i\u0000e\u0000n\u0000c\u0000i\u0000a\u0000 \u0000d\u0000e\u0000 \u0000d\u0000a\u0000t\u0000o\u0000s\u0000 \u0000e\u0000s\u0000 \u0000u\u0000n\u0000 \u0000c\u0000a\u0000m\u0000p\u0000o\u0000 \u0000i\u0000n\u0000t\u0000e\u0000r\u0000d\u0000i\u0000s\u0000c\u0000i\u0000p\u0000l\u0000i\u0000n\u0000a\u0000r\u0000i\u0000o\u0000 \u0000q\u0000u\u0000e\u0000 \u0000i\u0000n\u0000v\u0000o\u0000l\u0000u\u0000c\u0000r\u0000a\u0000 \u0000m\u0000é\u0000t\u0000o\u0000d\u0000o\u0000s\u0000 \u0000c\u0000i\u0000e\u0000n\u0000t\u0000í\u0000f\u0000i\u0000c\u0000o\u0000s\u0000,\u0000 \u0000p\u0000r\u0000o\u0000c\u0000e\u0000s\u0000o\u0000s\u0000 \u0000y\u0000 \u0000s\u0000i\u0000s\u0000t\u0000e\u0000m\u0000a\u0000s\u0000 \u0000p\u0000a\u0000r\u0000a\u0000 \u0000e\u0000x\u0000t\u0000r\u0000a\u0000e\u0000r\u0000 \u0000c\u0000o\u0000n\u0000o\u0000c\u0000i\u0000m\u0000i\u0000e\u0000n\u0000t\u0000o\u0000 \u0000o\u0000 \u0000u\u0000n\u0000 \u0000m\u0000e\u0000j\u0000o\u0000r\u0000 \u0000e\u0000n\u0000t\u0000e\u0000n\u0000d\u0000i\u0000m\u0000i\u0000e\u0000n\u0000t\u0000o\u0000 \u0000d\u0000e\u0000 \u0000d\u0000a\u0000t\u0000o\u0000s\u0000 \u0000e\u0000n\u0000 \u0000s\u0000u\u0000s\u0000 \u0000d\u0000i\u0000f\u0000e\u0000r\u0000e\u0000n\u0000t\u0000e\u0000s\u0000 \u0000f\u0000o\u0000r\u0000m\u0000a\u0000s\u0000,\u0000 \u0000y\u0000a\u0000 \u0000s\u0000e\u0000a\u0000 \u0000e\u0000s\u0000t\u0000r\u0000u\u0000c\u0000t\u0000u\u0000r\u0000a\u0000d\u0000o\u0000s\u0000 \u0000o\u0000 \u0000n\u0000o\u0000 \u0000e\u0000s\u0000t\u0000r\u0000u\u0000c\u0000t\u0000u\u0000r\u0000a\u0000d\u0000o\u0000s\u0000,\u00001\u0000?\u0000 \u0000l\u0000o\u0000 \u0000c\u0000u\u0000a\u0000l\u0000 \u0000e\u0000s\u0000 \u0000u\u0000n\u0000a\u0000 \u0000c\u0000o\u0000n\u0000t\u0000i\u0000n\u0000u\u0000a\u0000c\u0000i\u0000ó\u0000n\u0000 \u0000d\u0000e\u0000 \u0000a\u0000l\u0000g\u0000u\u0000n\u0000o\u0000s\u0000 \u0000c\u0000a\u0000m\u0000p\u0000o\u0000s\u0000 \u0000d\u0000e\u0000 \u0000a\u0000n\u0000á\u0000l\u0000i\u0000s\u0000i\u0000s\u0000 \u0000d\u0000e\u0000 \u0000d\u0000a\u0000t\u0000o\u0000s\u0000 \u0000c\u0000o\u0000m\u0000o\u0000 \u0000l\u0000a\u0000 \u0000e\u0000s\u0000t\u0000a\u0000d\u0000í\u0000s\u0000t\u0000i\u0000c\u0000a\u0000,\u0000 \u0000l\u0000a\u0000 \u0000m\u0000i\u0000n\u0000e\u0000r\u0000í\u0000a\u0000 \u0000d\u0000e\u0000 \u0000d\u0000a\u0000t\u0000o\u0000s\u0000,\u0000 \u0000e\u0000l\u0000 \u0000a\u0000p\u0000r\u0000e\u0000n\u0000d\u0000i\u0000z\u0000a\u0000j\u0000e\u0000 \u0000a\u0000u\u0000t\u0000o\u0000m\u0000á\u0000t\u0000i\u0000c\u0000o\u0000 \u0000y\u0000 \u0000l\u0000a\u0000 \u0000a\u0000n\u0000a\u0000l\u0000í\u0000t\u0000i\u0000c\u0000a\u0000 \u0000p\u0000r\u0000e\u0000d\u0000i\u0000c\u0000t\u0000i\u0000v\u0000a\u0000.\u0000\n",
      "\n"
     ]
    }
   ],
   "source": [
    "f = open(\"text.txt\", \"r\")\n",
    "\n",
    "print(f.readline())\n",
    "\n",
    "f.close()"
   ]
  },
  {
   "cell_type": "markdown",
   "metadata": {},
   "source": [
    "# Escritura de archivos"
   ]
  },
  {
   "cell_type": "code",
   "execution_count": 7,
   "metadata": {},
   "outputs": [],
   "source": [
    "f = open(\"demofile2.txt\", \"a\")\n",
    "f.write(\"\\nNow the file has more content!\")\n",
    "f.close()"
   ]
  },
  {
   "cell_type": "code",
   "execution_count": 8,
   "metadata": {},
   "outputs": [
    {
     "name": "stdout",
     "output_type": "stream",
     "text": [
      "Now the file has more content!Now the file has more content!Now the file has more content!\n",
      "Now the file has more content!\n"
     ]
    }
   ],
   "source": [
    "f = open(\"demofile3.txt\", \"w\")\n",
    "f.write(\"\\nWoops! I have deleted the content!\")\n",
    "f.close()\n",
    "\n",
    "#Abrir y leer despues de agregar:\n",
    "f = open(\"demofile2.txt\", \"r\")\n",
    "print(f.read())"
   ]
  },
  {
   "cell_type": "markdown",
   "metadata": {},
   "source": [
    "# Creación de nuevos archivos"
   ]
  },
  {
   "cell_type": "code",
   "execution_count": null,
   "metadata": {},
   "outputs": [],
   "source": [
    "# \"x\" - Crea - creará archivo, retorna un error si el archivo existe\n",
    "\n",
    "# \"a\" - Agrega - creará archivo si el archivo especifico no exites\n",
    "\n",
    "# \"w\" - Escribe - creará archivo si el archivo especifico existe"
   ]
  },
  {
   "cell_type": "code",
   "execution_count": 9,
   "metadata": {},
   "outputs": [
    {
     "ename": "FileExistsError",
     "evalue": "[Errno 17] File exists: 'myfile.txt'",
     "output_type": "error",
     "traceback": [
      "\u001b[1;31m---------------------------------------------------------------------------\u001b[0m",
      "\u001b[1;31mFileExistsError\u001b[0m                           Traceback (most recent call last)",
      "\u001b[1;32m<ipython-input-9-8c90a6f04865>\u001b[0m in \u001b[0;36m<module>\u001b[1;34m\u001b[0m\n\u001b[1;32m----> 1\u001b[1;33m \u001b[0mf\u001b[0m \u001b[1;33m=\u001b[0m \u001b[0mopen\u001b[0m\u001b[1;33m(\u001b[0m\u001b[1;34m\"myfile.txt\"\u001b[0m\u001b[1;33m,\u001b[0m \u001b[1;34m\"x\"\u001b[0m\u001b[1;33m)\u001b[0m\u001b[1;33m\u001b[0m\u001b[1;33m\u001b[0m\u001b[0m\n\u001b[0m",
      "\u001b[1;31mFileExistsError\u001b[0m: [Errno 17] File exists: 'myfile.txt'"
     ]
    }
   ],
   "source": [
    "f = open(\"myfile.txt\", \"x\")"
   ]
  },
  {
   "cell_type": "code",
   "execution_count": 11,
   "metadata": {},
   "outputs": [],
   "source": [
    "f = open(\"myfile.txt\", \"w\")"
   ]
  },
  {
   "cell_type": "markdown",
   "metadata": {},
   "source": [
    "# Eliminar archivos"
   ]
  },
  {
   "cell_type": "code",
   "execution_count": 2,
   "metadata": {},
   "outputs": [
    {
     "ename": "FileNotFoundError",
     "evalue": "[WinError 2] El sistema no puede encontrar el archivo especificado: 'demofile.txt'",
     "output_type": "error",
     "traceback": [
      "\u001b[1;31m---------------------------------------------------------------------------\u001b[0m",
      "\u001b[1;31mFileNotFoundError\u001b[0m                         Traceback (most recent call last)",
      "\u001b[1;32m<ipython-input-2-e4f794a2e954>\u001b[0m in \u001b[0;36m<module>\u001b[1;34m\u001b[0m\n\u001b[0;32m      1\u001b[0m \u001b[1;32mimport\u001b[0m \u001b[0mos\u001b[0m\u001b[1;33m\u001b[0m\u001b[1;33m\u001b[0m\u001b[0m\n\u001b[1;32m----> 2\u001b[1;33m \u001b[0mos\u001b[0m\u001b[1;33m.\u001b[0m\u001b[0mremove\u001b[0m\u001b[1;33m(\u001b[0m\u001b[1;34m\"demofile.txt\"\u001b[0m\u001b[1;33m)\u001b[0m\u001b[1;33m\u001b[0m\u001b[1;33m\u001b[0m\u001b[0m\n\u001b[0m",
      "\u001b[1;31mFileNotFoundError\u001b[0m: [WinError 2] El sistema no puede encontrar el archivo especificado: 'demofile.txt'"
     ]
    }
   ],
   "source": [
    "import os\n",
    "os.remove(\"demofile.txt\")"
   ]
  },
  {
   "cell_type": "code",
   "execution_count": null,
   "metadata": {},
   "outputs": [],
   "source": [
    "import os\n",
    "if os.path.exists(\"demofile.txt\"):\n",
    "  os.remove(\"demofile.txt\")\n",
    "else:\n",
    "  print(\"The file does not exist\")"
   ]
  },
  {
   "cell_type": "markdown",
   "metadata": {},
   "source": [
    "# Remover una carpeta"
   ]
  },
  {
   "cell_type": "code",
   "execution_count": null,
   "metadata": {},
   "outputs": [],
   "source": [
    "import os\n",
    "os.rmdir(\"myfolder\")"
   ]
  }
 ],
 "metadata": {
  "kernelspec": {
   "display_name": "Python 3",
   "language": "python",
   "name": "python3"
  },
  "language_info": {
   "codemirror_mode": {
    "name": "ipython",
    "version": 3
   },
   "file_extension": ".py",
   "mimetype": "text/x-python",
   "name": "python",
   "nbconvert_exporter": "python",
   "pygments_lexer": "ipython3",
   "version": "3.7.4"
  }
 },
 "nbformat": 4,
 "nbformat_minor": 2
}
