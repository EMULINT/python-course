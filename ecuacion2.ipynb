{
 "cells": [
  {
   "cell_type": "markdown",
   "metadata": {},
   "source": [
    "# Solución de la ecuacion de segundo grado"
   ]
  },
  {
   "cell_type": "markdown",
   "metadata": {},
   "source": [
    "# $ax^2+bx + c = 0$"
   ]
  },
  {
   "cell_type": "code",
   "execution_count": null,
   "metadata": {},
   "outputs": [],
   "source": [
    "import math\n",
    "\n",
    "#Entrada de datos\n",
    "a = float(input('Ingrese el valor de a: '))\n",
    "b = float(input('Ingrese el valor de b: '))\n",
    "c = float(input('Ingrese el valor de c: '))"
   ]
  },
  {
   "cell_type": "code",
   "execution_count": null,
   "metadata": {},
   "outputs": [],
   "source": [
    "determinante = b*b - 4*(a*c)\n",
    "\n",
    "if determinante < 0.0:\n",
    "    print(\"x1 y x2 son valores imaginarios\")\n",
    "if determinante == 0.0:\n",
    "    x = -b/(2*a)\n",
    "    print(\"La ecuación solo tiene una solución x = \", x)\n",
    "if determinante > 0.0:\n",
    "    raiz = math.sqrt(determinante)\n",
    "    x1 = (-b + raiz)/(2*a)\n",
    "    x2 = (-b - raiz)/(2*a)\n",
    "    print(\"La ecuación tiede dos soluciones x1= \",x1,\" x2= \",x2)"
   ]
  },
  {
   "cell_type": "code",
   "execution_count": null,
   "metadata": {},
   "outputs": [],
   "source": []
  }
 ],
 "metadata": {
  "kernelspec": {
   "display_name": "Python 3",
   "language": "python",
   "name": "python3"
  },
  "language_info": {
   "codemirror_mode": {
    "name": "ipython",
    "version": 3
   },
   "file_extension": ".py",
   "mimetype": "text/x-python",
   "name": "python",
   "nbconvert_exporter": "python",
   "pygments_lexer": "ipython3",
   "version": "3.7.4"
  }
 },
 "nbformat": 4,
 "nbformat_minor": 2
}
